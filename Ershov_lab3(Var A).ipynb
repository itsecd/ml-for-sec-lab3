{
  "cells": [
    {
      "cell_type": "code",
      "execution_count": null,
      "metadata": {
        "id": "qggJm6p1Kkki",
        "colab": {
          "base_uri": "https://localhost:8080/"
        },
        "outputId": "c76f6c10-09db-4f35-efc7-8bb095246803"
      },
      "outputs": [
        {
          "output_type": "stream",
          "name": "stdout",
          "text": [
            "Reading package lists... Done\n",
            "Building dependency tree       \n",
            "Reading state information... Done\n",
            "libmagickwand-dev is already the newest version (8:6.9.10.23+dfsg-2.1ubuntu11.4).\n",
            "The following package was automatically installed and is no longer required:\n",
            "  libnvidia-common-510\n",
            "Use 'sudo apt autoremove' to remove it.\n",
            "0 upgraded, 0 newly installed, 0 to remove and 21 not upgraded.\n",
            "Looking in indexes: https://pypi.org/simple, https://us-python.pkg.dev/colab-wheels/public/simple/\n",
            "Requirement already satisfied: opencv-python-headless==4.6.* in /usr/local/lib/python3.8/dist-packages (4.6.0.66)\n",
            "Requirement already satisfied: rawpy==0.17.* in /usr/local/lib/python3.8/dist-packages (0.17.3)\n",
            "Requirement already satisfied: pandas in /usr/local/lib/python3.8/dist-packages (1.3.5)\n",
            "Requirement already satisfied: Pillow==7.1.2 in /usr/local/lib/python3.8/dist-packages (7.1.2)\n",
            "Requirement already satisfied: scikit-image==0.16.2 in /usr/local/lib/python3.8/dist-packages (0.16.2)\n",
            "Requirement already satisfied: scipy in /usr/local/lib/python3.8/dist-packages (1.7.3)\n",
            "Requirement already satisfied: tqdm in /usr/local/lib/python3.8/dist-packages (4.64.1)\n",
            "Requirement already satisfied: Wand in /usr/local/lib/python3.8/dist-packages (0.6.11)\n",
            "Requirement already satisfied: numpy>=1.14.5 in /usr/local/lib/python3.8/dist-packages (from opencv-python-headless==4.6.*) (1.21.6)\n",
            "Requirement already satisfied: networkx>=2.0 in /usr/local/lib/python3.8/dist-packages (from scikit-image==0.16.2) (3.0)\n",
            "Requirement already satisfied: PyWavelets>=0.4.0 in /usr/local/lib/python3.8/dist-packages (from scikit-image==0.16.2) (1.4.1)\n",
            "Requirement already satisfied: imageio>=2.3.0 in /usr/local/lib/python3.8/dist-packages (from scikit-image==0.16.2) (2.9.0)\n",
            "Requirement already satisfied: matplotlib!=3.0.0,>=2.0.0 in /usr/local/lib/python3.8/dist-packages (from scikit-image==0.16.2) (3.2.2)\n",
            "Requirement already satisfied: python-dateutil>=2.7.3 in /usr/local/lib/python3.8/dist-packages (from pandas) (2.8.2)\n",
            "Requirement already satisfied: pytz>=2017.3 in /usr/local/lib/python3.8/dist-packages (from pandas) (2022.7.1)\n",
            "Requirement already satisfied: kiwisolver>=1.0.1 in /usr/local/lib/python3.8/dist-packages (from matplotlib!=3.0.0,>=2.0.0->scikit-image==0.16.2) (1.4.4)\n",
            "Requirement already satisfied: pyparsing!=2.0.4,!=2.1.2,!=2.1.6,>=2.0.1 in /usr/local/lib/python3.8/dist-packages (from matplotlib!=3.0.0,>=2.0.0->scikit-image==0.16.2) (3.0.9)\n",
            "Requirement already satisfied: cycler>=0.10 in /usr/local/lib/python3.8/dist-packages (from matplotlib!=3.0.0,>=2.0.0->scikit-image==0.16.2) (0.11.0)\n",
            "Requirement already satisfied: six>=1.5 in /usr/local/lib/python3.8/dist-packages (from python-dateutil>=2.7.3->pandas) (1.15.0)\n"
          ]
        }
      ],
      "source": [
        "!sudo apt-get install libmagickwand-dev\n",
        "!pip install --no-cache-dir \\\n",
        "    opencv-python-headless==4.6.*\\\n",
        "    rawpy==0.17.* \\\n",
        "    pandas \\\n",
        "    Pillow==7.1.2 \\\n",
        "    scikit-image==0.16.2 \\\n",
        "    scipy \\\n",
        "    tqdm \\\n",
        "    Wand"
      ]
    },
    {
      "cell_type": "code",
      "execution_count": null,
      "metadata": {
        "id": "R9g6PhxgKsd1",
        "colab": {
          "base_uri": "https://localhost:8080/"
        },
        "outputId": "e85d5023-29d1-4fb3-8cfb-3be5d81c4fc0"
      },
      "outputs": [
        {
          "output_type": "stream",
          "name": "stdout",
          "text": [
            "fatal: destination path 'BoostingCNN-Jpeg-Primary-Quantization-Matrix-Estimation' already exists and is not an empty directory.\n"
          ]
        }
      ],
      "source": [
        "!git clone https://github.com/andreacos/BoostingCNN-Jpeg-Primary-Quantization-Matrix-Estimation"
      ]
    },
    {
      "cell_type": "code",
      "execution_count": null,
      "metadata": {
        "id": "yM4DVQz2LFiw",
        "colab": {
          "base_uri": "https://localhost:8080/"
        },
        "outputId": "014304b5-e551-4ad2-df3f-b1e70c4ba336"
      },
      "outputs": [
        {
          "output_type": "stream",
          "name": "stdout",
          "text": [
            "Drive already mounted at /content/gdrive; to attempt to forcibly remount, call drive.mount(\"/content/gdrive\", force_remount=True).\n"
          ]
        }
      ],
      "source": [
        "import sys\n",
        "\n",
        "sys.path.insert(1, \"BoostingCNN-Jpeg-Primary-Quantization-Matrix-Estimation\")\n",
        "\n",
        "from google.colab import drive\n",
        "drive.mount('/content/gdrive')"
      ]
    },
    {
      "cell_type": "code",
      "execution_count": null,
      "metadata": {
        "id": "wYFv85BSLLhk"
      },
      "outputs": [],
      "source": [
        "import io\n",
        "import os\n",
        "from glob import glob\n",
        "\n",
        "import cv2\n",
        "import numpy as np\n",
        "import pandas as pd\n",
        "import tensorflow as tf\n",
        "import networks #import (custom_mse_wrapper, custom_softmax_activation,\n",
        "                  #    custom_two_terms_loss_wrapper)\n",
        "from PIL import Image\n",
        "from skimage.util import view_as_windows\n",
        "import utils #import label2coefficient\n",
        "#, max_min_coefficient, string2Q"
      ]
    },
    {
      "cell_type": "code",
      "execution_count": null,
      "metadata": {
        "id": "sL1zXGXZL1Lu"
      },
      "outputs": [],
      "source": [
        "model_file = 'BoostingCNN-Jpeg-Primary-Quantization-Matrix-Estimation/models/model_QF1_60-98_QF2_90-2-term-loss.h5'\n",
        "image_file =  'BoostingCNN-Jpeg-Primary-Quantization-Matrix-Estimation/resources/00000000_redaf7d93t.TIF_85_90.png'\n",
        "_map = np.load('BoostingCNN-Jpeg-Primary-Quantization-Matrix-Estimation/resources/qf1_qf2_map_90.npy', allow_pickle=True)"
      ]
    },
    {
      "cell_type": "code",
      "execution_count": null,
      "metadata": {
        "id": "LWZ5yWd8OzR3"
      },
      "outputs": [],
      "source": [
        "def preprocess(image: np.array, dimension: tuple) -> np.array:\n",
        "    if isinstance(image, str):\n",
        "        image = cv2.imread(image)    \n",
        "    image = cv2.cvtColor(image, cv2.COLOR_BGR2YCrCb)[:,:,0]\n",
        "    if image.shape != dimension:\n",
        "        image = cv2.resize(image, dimension)\n",
        "    return image.astype(np.float32) / 255.\n",
        "\n",
        "#WMSE\n",
        "def mse_weighted(pred: np.array, dct_coeffs: np.array, weights: np.array):\n",
        "  diff = np.asarray((pred - dct_coeffs)**2) * weights\n",
        "  weighted = np.average(diff, axis=1, weights=weights)\n",
        "  return weighted\n",
        "\n",
        "#MSE\n",
        "def mse(pred: np.array, dct_coeffs: np.array):\n",
        "    return np.mean((pred - dct_coeffs) ** 2, axis=1)\n",
        "\n",
        "\n",
        "def make_predictWMSE(image: np.array, arr: np.array, maximum_coefficients: np.array, q50_coeffs: np.array) -> np.array:\n",
        "    predicted_label = label2coefficient(model.predict(np.expand_dims(image, [0, -1]), verbose=0).flatten(), maximum_coefficients)\n",
        "    return labels[np.argmin(mse_weighted(predicted_label, arr, q50_coeffs))]\n",
        "\n",
        "def make_predictMSE(image: np.array, arr: np.array, maximum_coefficients: np.array) -> np.array:\n",
        "    predicted_label = label2coefficient(model.predict(np.expand_dims(image, [0, -1]), verbose=0).flatten(), maximum_coefficients)\n",
        "    return labels[np.argmin(mse(predicted_label, arr))]\n",
        "\n",
        "def make_predict(image: np.array, arr: np.array, maximum_coefficients: np.array, q50_coeffs: np.array) -> np.array:\n",
        "    w_mse_idx = make_predictWMSE(image, arr, maximum_coefficients, q50_coeffs)\n",
        "    mse_idx = make_predictMSE(image, arr, maximum_coefficients)\n",
        "    return w_mse_idx, mse_idx\n",
        "\n",
        "def image_compression(image: np.array, *qfs: tuple) -> np.array:\n",
        "    for qf in qfs:\n",
        "        image = np.array(Image.open(io.BytesIO(cv2.imencode('.jpg', image, [int(cv2.IMWRITE_JPEG_QUALITY), qf])[1])))\n",
        "    return image"
      ]
    },
    {
      "cell_type": "code",
      "execution_count": null,
      "metadata": {
        "id": "fiGzDoqCrqrC"
      },
      "outputs": [],
      "source": [
        "maximum_coefficients, _ = max_min_coefficient(\n",
        "    quality_range=(50, 100),\n",
        "    n_coeffs=15\n",
        "    )"
      ]
    },
    {
      "cell_type": "code",
      "execution_count": null,
      "metadata": {
        "id": "Pyl8P9dDee9E",
        "colab": {
          "base_uri": "https://localhost:8080/"
        },
        "outputId": "724c592e-84da-407f-f007-342a2969529b"
      },
      "outputs": [
        {
          "output_type": "stream",
          "name": "stderr",
          "text": [
            "WARNING:tensorflow:No training configuration found in the save file, so the model was *not* compiled. Compile it manually.\n"
          ]
        }
      ],
      "source": [
        "model = tf.keras.models.load_model(\n",
        "    model_file,\n",
        "    custom_objects=({\n",
        "        'custom_softmax': custom_softmax_activation(maximum_coefficients),\n",
        "        'custom_two_terms_loss_wrapper': custom_two_terms_loss_wrapper(maximum_coefficients, 0.8),\n",
        "        'custom_mse': custom_mse_wrapper(maximum_coefficients)\n",
        "        })\n",
        "    )"
      ]
    },
    {
      "cell_type": "code",
      "execution_count": null,
      "metadata": {
        "colab": {
          "base_uri": "https://localhost:8080/"
        },
        "id": "lOexb4AWNW5P",
        "outputId": "1cda2eba-084e-410c-ce35-530b647e3e6c"
      },
      "outputs": [
        {
          "output_type": "stream",
          "name": "stdout",
          "text": [
            "1/1 [==============================] - 2s 2s/step\n"
          ]
        },
        {
          "output_type": "execute_result",
          "data": {
            "text/plain": [
              "array([ 7,  5,  4,  6,  4,  3,  7,  6,  4,  6,  8,  7,  7,  8, 11])"
            ]
          },
          "metadata": {},
          "execution_count": 174
        }
      ],
      "source": [
        "label2coefficient(\n",
        "    model.predict(np.expand_dims(preprocess(image_file, (64, 64)), [0, -1])).flatten(), \n",
        "    max_coefficients=maximum_coefficients\n",
        "    )"
      ]
    },
    {
      "cell_type": "code",
      "execution_count": null,
      "metadata": {
        "id": "FKc3CL_uNd83"
      },
      "outputs": [],
      "source": [
        "labels = _map[:, :2]\n",
        "dct_coeffs = np.array([string2Q(i[2], size=(8, 8), flatten=True)[:15] for i in _map])\n",
        "#Задание весов для WMSE\n",
        "q50_coeffs = np.array([16,11,12,14,12,10,16,14,13,14,18,17,16,19,24], dtype='int64')"
      ]
    },
    {
      "cell_type": "code",
      "execution_count": null,
      "metadata": {
        "id": "UJPPW0TYro0L"
      },
      "outputs": [],
      "source": [
        "examples = [\n",
        "    (60, ),\n",
        "    (65, 75),\n",
        "    (70, 90),\n",
        "    (75, 70),\n",
        "    (95, 95)\n",
        "]"
      ]
    },
    {
      "cell_type": "markdown",
      "metadata": {
        "id": "Q_LST_cThQyW"
      },
      "source": [
        "### A0: Программно сгенерировать 5 принципиально различных ситуаций: однократное сжатие, 𝑄𝐹1 < 𝑄𝐹2, 𝑄𝐹1 ≪ 𝑄𝐹2, 𝑄𝐹1 > 𝑄𝐹2, 𝑄𝐹1 ≈ 𝑄𝐹2. "
      ]
    },
    {
      "cell_type": "code",
      "source": [
        "def a0_task(examples: list) -> pd.DataFrame:\n",
        "    a0_data = []\n",
        "\n",
        "    for example in examples:\n",
        "        for path in glob(\"/content/gdrive/MyDrive/Colab Notebooks/images/*.tif\"):\n",
        "            image = image_compression(cv2.imread(path), *example)[:64, :64]\n",
        "            pred_w, pred = make_predict(preprocess(image, (64, 64)), dct_coeffs, maximum_coefficients, q50_coeffs)\n",
        "            a0_data.append([example[0], pred_w[0], np.abs(pred_w[0]-example[0]), pred[0], np.abs(pred[0]-example[0])])\n",
        "\n",
        "    task_a0 = pd.DataFrame(a0_data, columns=['QF1', 'Prediction_WMSE', 'Error_WMSE', 'Prediction', 'Error'])\n",
        "    return task_a0.groupby('QF1').mean().reset_index()"
      ],
      "metadata": {
        "id": "UPuEIXoF3_lm"
      },
      "execution_count": null,
      "outputs": []
    },
    {
      "cell_type": "code",
      "source": [
        "a0_task(examples)"
      ],
      "metadata": {
        "colab": {
          "base_uri": "https://localhost:8080/",
          "height": 206
        },
        "id": "6ikOtII43_td",
        "outputId": "c98c6efa-c563-42a0-fb61-af1b54405b69"
      },
      "execution_count": null,
      "outputs": [
        {
          "output_type": "execute_result",
          "data": {
            "text/plain": [
              "   QF1  Prediction_WMSE  Error_WMSE  Prediction     Error\n",
              "0   60        62.000000    2.000000   61.916667  1.916667\n",
              "1   65        67.750000    3.750000   67.833333  3.833333\n",
              "2   70        67.750000    3.083333   67.750000  3.083333\n",
              "3   75        68.916667    6.083333   69.000000  6.000000\n",
              "4   95        95.083333    1.916667   95.083333  1.750000"
            ],
            "text/html": [
              "\n",
              "  <div id=\"df-b8e1567e-84f8-4467-bdb5-5bf9307ea331\">\n",
              "    <div class=\"colab-df-container\">\n",
              "      <div>\n",
              "<style scoped>\n",
              "    .dataframe tbody tr th:only-of-type {\n",
              "        vertical-align: middle;\n",
              "    }\n",
              "\n",
              "    .dataframe tbody tr th {\n",
              "        vertical-align: top;\n",
              "    }\n",
              "\n",
              "    .dataframe thead th {\n",
              "        text-align: right;\n",
              "    }\n",
              "</style>\n",
              "<table border=\"1\" class=\"dataframe\">\n",
              "  <thead>\n",
              "    <tr style=\"text-align: right;\">\n",
              "      <th></th>\n",
              "      <th>QF1</th>\n",
              "      <th>Prediction_WMSE</th>\n",
              "      <th>Error_WMSE</th>\n",
              "      <th>Prediction</th>\n",
              "      <th>Error</th>\n",
              "    </tr>\n",
              "  </thead>\n",
              "  <tbody>\n",
              "    <tr>\n",
              "      <th>0</th>\n",
              "      <td>60</td>\n",
              "      <td>62.000000</td>\n",
              "      <td>2.000000</td>\n",
              "      <td>61.916667</td>\n",
              "      <td>1.916667</td>\n",
              "    </tr>\n",
              "    <tr>\n",
              "      <th>1</th>\n",
              "      <td>65</td>\n",
              "      <td>67.750000</td>\n",
              "      <td>3.750000</td>\n",
              "      <td>67.833333</td>\n",
              "      <td>3.833333</td>\n",
              "    </tr>\n",
              "    <tr>\n",
              "      <th>2</th>\n",
              "      <td>70</td>\n",
              "      <td>67.750000</td>\n",
              "      <td>3.083333</td>\n",
              "      <td>67.750000</td>\n",
              "      <td>3.083333</td>\n",
              "    </tr>\n",
              "    <tr>\n",
              "      <th>3</th>\n",
              "      <td>75</td>\n",
              "      <td>68.916667</td>\n",
              "      <td>6.083333</td>\n",
              "      <td>69.000000</td>\n",
              "      <td>6.000000</td>\n",
              "    </tr>\n",
              "    <tr>\n",
              "      <th>4</th>\n",
              "      <td>95</td>\n",
              "      <td>95.083333</td>\n",
              "      <td>1.916667</td>\n",
              "      <td>95.083333</td>\n",
              "      <td>1.750000</td>\n",
              "    </tr>\n",
              "  </tbody>\n",
              "</table>\n",
              "</div>\n",
              "      <button class=\"colab-df-convert\" onclick=\"convertToInteractive('df-b8e1567e-84f8-4467-bdb5-5bf9307ea331')\"\n",
              "              title=\"Convert this dataframe to an interactive table.\"\n",
              "              style=\"display:none;\">\n",
              "        \n",
              "  <svg xmlns=\"http://www.w3.org/2000/svg\" height=\"24px\"viewBox=\"0 0 24 24\"\n",
              "       width=\"24px\">\n",
              "    <path d=\"M0 0h24v24H0V0z\" fill=\"none\"/>\n",
              "    <path d=\"M18.56 5.44l.94 2.06.94-2.06 2.06-.94-2.06-.94-.94-2.06-.94 2.06-2.06.94zm-11 1L8.5 8.5l.94-2.06 2.06-.94-2.06-.94L8.5 2.5l-.94 2.06-2.06.94zm10 10l.94 2.06.94-2.06 2.06-.94-2.06-.94-.94-2.06-.94 2.06-2.06.94z\"/><path d=\"M17.41 7.96l-1.37-1.37c-.4-.4-.92-.59-1.43-.59-.52 0-1.04.2-1.43.59L10.3 9.45l-7.72 7.72c-.78.78-.78 2.05 0 2.83L4 21.41c.39.39.9.59 1.41.59.51 0 1.02-.2 1.41-.59l7.78-7.78 2.81-2.81c.8-.78.8-2.07 0-2.86zM5.41 20L4 18.59l7.72-7.72 1.47 1.35L5.41 20z\"/>\n",
              "  </svg>\n",
              "      </button>\n",
              "      \n",
              "  <style>\n",
              "    .colab-df-container {\n",
              "      display:flex;\n",
              "      flex-wrap:wrap;\n",
              "      gap: 12px;\n",
              "    }\n",
              "\n",
              "    .colab-df-convert {\n",
              "      background-color: #E8F0FE;\n",
              "      border: none;\n",
              "      border-radius: 50%;\n",
              "      cursor: pointer;\n",
              "      display: none;\n",
              "      fill: #1967D2;\n",
              "      height: 32px;\n",
              "      padding: 0 0 0 0;\n",
              "      width: 32px;\n",
              "    }\n",
              "\n",
              "    .colab-df-convert:hover {\n",
              "      background-color: #E2EBFA;\n",
              "      box-shadow: 0px 1px 2px rgba(60, 64, 67, 0.3), 0px 1px 3px 1px rgba(60, 64, 67, 0.15);\n",
              "      fill: #174EA6;\n",
              "    }\n",
              "\n",
              "    [theme=dark] .colab-df-convert {\n",
              "      background-color: #3B4455;\n",
              "      fill: #D2E3FC;\n",
              "    }\n",
              "\n",
              "    [theme=dark] .colab-df-convert:hover {\n",
              "      background-color: #434B5C;\n",
              "      box-shadow: 0px 1px 3px 1px rgba(0, 0, 0, 0.15);\n",
              "      filter: drop-shadow(0px 1px 2px rgba(0, 0, 0, 0.3));\n",
              "      fill: #FFFFFF;\n",
              "    }\n",
              "  </style>\n",
              "\n",
              "      <script>\n",
              "        const buttonEl =\n",
              "          document.querySelector('#df-b8e1567e-84f8-4467-bdb5-5bf9307ea331 button.colab-df-convert');\n",
              "        buttonEl.style.display =\n",
              "          google.colab.kernel.accessAllowed ? 'block' : 'none';\n",
              "\n",
              "        async function convertToInteractive(key) {\n",
              "          const element = document.querySelector('#df-b8e1567e-84f8-4467-bdb5-5bf9307ea331');\n",
              "          const dataTable =\n",
              "            await google.colab.kernel.invokeFunction('convertToInteractive',\n",
              "                                                     [key], {});\n",
              "          if (!dataTable) return;\n",
              "\n",
              "          const docLinkHtml = 'Like what you see? Visit the ' +\n",
              "            '<a target=\"_blank\" href=https://colab.research.google.com/notebooks/data_table.ipynb>data table notebook</a>'\n",
              "            + ' to learn more about interactive tables.';\n",
              "          element.innerHTML = '';\n",
              "          dataTable['output_type'] = 'display_data';\n",
              "          await google.colab.output.renderOutput(dataTable, element);\n",
              "          const docLink = document.createElement('div');\n",
              "          docLink.innerHTML = docLinkHtml;\n",
              "          element.appendChild(docLink);\n",
              "        }\n",
              "      </script>\n",
              "    </div>\n",
              "  </div>\n",
              "  "
            ]
          },
          "metadata": {},
          "execution_count": 178
        }
      ]
    },
    {
      "cell_type": "markdown",
      "metadata": {
        "id": "ST6WO5AWhhdg"
      },
      "source": [
        "### A1: Сравнить ошибку при оценивании 𝑄𝐹1 по одному патчу и при оценивании по 𝑝 = 10 патчам, выбранным из одного изображения без пересечения."
      ]
    },
    {
      "cell_type": "code",
      "execution_count": null,
      "metadata": {
        "id": "0GuhZpPVQKwF"
      },
      "outputs": [],
      "source": [
        "def a1_task(examples: list) -> pd.DataFrame:\n",
        "    a1_data = []\n",
        "\n",
        "    for example in examples:\n",
        "        for path in glob(\"/content/gdrive/MyDrive/Colab Notebooks/images/*.tif\"):\n",
        "            chunks = view_as_windows(image_compression(cv2.imread(path), *example), (64, 64, 3), 64).reshape(-1, 64, 64, 3)\n",
        "            temp_datawmse = []\n",
        "            temp_datamse = []\n",
        "            \n",
        "            for chunk in chunks[:10]:\n",
        "                pred_w, pred = make_predict(preprocess(chunk, (64, 64)), dct_coeffs, maximum_coefficients, q50_coeffs)\n",
        "                temp_datawmse.append([pred_w[0], np.abs(pred_w[0] - example[0])])\n",
        "                temp_datamse.append([pred[0], np.abs(pred[0] - example[0])])\n",
        "        \n",
        "            mean_resultwmse = np.mean(temp_datawmse, axis=0)\n",
        "            mean_resultmse = np.mean(temp_datamse, axis=0)\n",
        "            a1_data.append([example[0], mean_resultwmse[0], mean_resultwmse[1], mean_resultmse[0], mean_resultmse[1]])\n",
        "    task_a1 = pd.DataFrame(a1_data, columns=['QF1', 'Prediction_WMSE', 'Error_WMSE', 'Prediction', 'Error'])\n",
        "    return task_a1.groupby('QF1').mean().reset_index()"
      ]
    },
    {
      "cell_type": "code",
      "execution_count": null,
      "metadata": {
        "id": "V6kRnqnpZiQO",
        "colab": {
          "base_uri": "https://localhost:8080/",
          "height": 206
        },
        "outputId": "cb2eeb17-df0c-4e93-c092-b224ad2d2444"
      },
      "outputs": [
        {
          "output_type": "execute_result",
          "data": {
            "text/plain": [
              "   QF1  Prediction_WMSE  Error_WMSE  Prediction     Error\n",
              "0   60        61.808333    1.808333   61.800000  1.800000\n",
              "1   65        67.250000    3.533333   67.250000  3.483333\n",
              "2   70        68.075000    2.541667   68.083333  2.533333\n",
              "3   75        69.158333    5.841667   69.175000  5.825000\n",
              "4   95        94.908333    2.958333   94.850000  2.866667"
            ],
            "text/html": [
              "\n",
              "  <div id=\"df-c1076951-5b2e-4874-a457-001954ce539b\">\n",
              "    <div class=\"colab-df-container\">\n",
              "      <div>\n",
              "<style scoped>\n",
              "    .dataframe tbody tr th:only-of-type {\n",
              "        vertical-align: middle;\n",
              "    }\n",
              "\n",
              "    .dataframe tbody tr th {\n",
              "        vertical-align: top;\n",
              "    }\n",
              "\n",
              "    .dataframe thead th {\n",
              "        text-align: right;\n",
              "    }\n",
              "</style>\n",
              "<table border=\"1\" class=\"dataframe\">\n",
              "  <thead>\n",
              "    <tr style=\"text-align: right;\">\n",
              "      <th></th>\n",
              "      <th>QF1</th>\n",
              "      <th>Prediction_WMSE</th>\n",
              "      <th>Error_WMSE</th>\n",
              "      <th>Prediction</th>\n",
              "      <th>Error</th>\n",
              "    </tr>\n",
              "  </thead>\n",
              "  <tbody>\n",
              "    <tr>\n",
              "      <th>0</th>\n",
              "      <td>60</td>\n",
              "      <td>61.808333</td>\n",
              "      <td>1.808333</td>\n",
              "      <td>61.800000</td>\n",
              "      <td>1.800000</td>\n",
              "    </tr>\n",
              "    <tr>\n",
              "      <th>1</th>\n",
              "      <td>65</td>\n",
              "      <td>67.250000</td>\n",
              "      <td>3.533333</td>\n",
              "      <td>67.250000</td>\n",
              "      <td>3.483333</td>\n",
              "    </tr>\n",
              "    <tr>\n",
              "      <th>2</th>\n",
              "      <td>70</td>\n",
              "      <td>68.075000</td>\n",
              "      <td>2.541667</td>\n",
              "      <td>68.083333</td>\n",
              "      <td>2.533333</td>\n",
              "    </tr>\n",
              "    <tr>\n",
              "      <th>3</th>\n",
              "      <td>75</td>\n",
              "      <td>69.158333</td>\n",
              "      <td>5.841667</td>\n",
              "      <td>69.175000</td>\n",
              "      <td>5.825000</td>\n",
              "    </tr>\n",
              "    <tr>\n",
              "      <th>4</th>\n",
              "      <td>95</td>\n",
              "      <td>94.908333</td>\n",
              "      <td>2.958333</td>\n",
              "      <td>94.850000</td>\n",
              "      <td>2.866667</td>\n",
              "    </tr>\n",
              "  </tbody>\n",
              "</table>\n",
              "</div>\n",
              "      <button class=\"colab-df-convert\" onclick=\"convertToInteractive('df-c1076951-5b2e-4874-a457-001954ce539b')\"\n",
              "              title=\"Convert this dataframe to an interactive table.\"\n",
              "              style=\"display:none;\">\n",
              "        \n",
              "  <svg xmlns=\"http://www.w3.org/2000/svg\" height=\"24px\"viewBox=\"0 0 24 24\"\n",
              "       width=\"24px\">\n",
              "    <path d=\"M0 0h24v24H0V0z\" fill=\"none\"/>\n",
              "    <path d=\"M18.56 5.44l.94 2.06.94-2.06 2.06-.94-2.06-.94-.94-2.06-.94 2.06-2.06.94zm-11 1L8.5 8.5l.94-2.06 2.06-.94-2.06-.94L8.5 2.5l-.94 2.06-2.06.94zm10 10l.94 2.06.94-2.06 2.06-.94-2.06-.94-.94-2.06-.94 2.06-2.06.94z\"/><path d=\"M17.41 7.96l-1.37-1.37c-.4-.4-.92-.59-1.43-.59-.52 0-1.04.2-1.43.59L10.3 9.45l-7.72 7.72c-.78.78-.78 2.05 0 2.83L4 21.41c.39.39.9.59 1.41.59.51 0 1.02-.2 1.41-.59l7.78-7.78 2.81-2.81c.8-.78.8-2.07 0-2.86zM5.41 20L4 18.59l7.72-7.72 1.47 1.35L5.41 20z\"/>\n",
              "  </svg>\n",
              "      </button>\n",
              "      \n",
              "  <style>\n",
              "    .colab-df-container {\n",
              "      display:flex;\n",
              "      flex-wrap:wrap;\n",
              "      gap: 12px;\n",
              "    }\n",
              "\n",
              "    .colab-df-convert {\n",
              "      background-color: #E8F0FE;\n",
              "      border: none;\n",
              "      border-radius: 50%;\n",
              "      cursor: pointer;\n",
              "      display: none;\n",
              "      fill: #1967D2;\n",
              "      height: 32px;\n",
              "      padding: 0 0 0 0;\n",
              "      width: 32px;\n",
              "    }\n",
              "\n",
              "    .colab-df-convert:hover {\n",
              "      background-color: #E2EBFA;\n",
              "      box-shadow: 0px 1px 2px rgba(60, 64, 67, 0.3), 0px 1px 3px 1px rgba(60, 64, 67, 0.15);\n",
              "      fill: #174EA6;\n",
              "    }\n",
              "\n",
              "    [theme=dark] .colab-df-convert {\n",
              "      background-color: #3B4455;\n",
              "      fill: #D2E3FC;\n",
              "    }\n",
              "\n",
              "    [theme=dark] .colab-df-convert:hover {\n",
              "      background-color: #434B5C;\n",
              "      box-shadow: 0px 1px 3px 1px rgba(0, 0, 0, 0.15);\n",
              "      filter: drop-shadow(0px 1px 2px rgba(0, 0, 0, 0.3));\n",
              "      fill: #FFFFFF;\n",
              "    }\n",
              "  </style>\n",
              "\n",
              "      <script>\n",
              "        const buttonEl =\n",
              "          document.querySelector('#df-c1076951-5b2e-4874-a457-001954ce539b button.colab-df-convert');\n",
              "        buttonEl.style.display =\n",
              "          google.colab.kernel.accessAllowed ? 'block' : 'none';\n",
              "\n",
              "        async function convertToInteractive(key) {\n",
              "          const element = document.querySelector('#df-c1076951-5b2e-4874-a457-001954ce539b');\n",
              "          const dataTable =\n",
              "            await google.colab.kernel.invokeFunction('convertToInteractive',\n",
              "                                                     [key], {});\n",
              "          if (!dataTable) return;\n",
              "\n",
              "          const docLinkHtml = 'Like what you see? Visit the ' +\n",
              "            '<a target=\"_blank\" href=https://colab.research.google.com/notebooks/data_table.ipynb>data table notebook</a>'\n",
              "            + ' to learn more about interactive tables.';\n",
              "          element.innerHTML = '';\n",
              "          dataTable['output_type'] = 'display_data';\n",
              "          await google.colab.output.renderOutput(dataTable, element);\n",
              "          const docLink = document.createElement('div');\n",
              "          docLink.innerHTML = docLinkHtml;\n",
              "          element.appendChild(docLink);\n",
              "        }\n",
              "      </script>\n",
              "    </div>\n",
              "  </div>\n",
              "  "
            ]
          },
          "metadata": {},
          "execution_count": 180
        }
      ],
      "source": [
        "a1_task(examples)"
      ]
    },
    {
      "cell_type": "code",
      "source": [],
      "metadata": {
        "id": "QUAniW7-uQgP"
      },
      "execution_count": null,
      "outputs": []
    }
  ],
  "metadata": {
    "colab": {
      "provenance": []
    },
    "kernelspec": {
      "display_name": "Python 3 (ipykernel)",
      "language": "python",
      "name": "python3"
    },
    "language_info": {
      "codemirror_mode": {
        "name": "ipython",
        "version": 3
      },
      "file_extension": ".py",
      "mimetype": "text/x-python",
      "name": "python",
      "nbconvert_exporter": "python",
      "pygments_lexer": "ipython3",
      "version": "3.9.6"
    }
  },
  "nbformat": 4,
  "nbformat_minor": 0
}