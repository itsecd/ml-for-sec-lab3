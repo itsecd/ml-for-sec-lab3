{
  "nbformat": 4,
  "nbformat_minor": 0,
  "metadata": {
    "colab": {
      "provenance": []
    },
    "kernelspec": {
      "name": "python3",
      "display_name": "Python 3"
    },
    "language_info": {
      "name": "python"
    }
  },
  "cells": [
    {
      "cell_type": "code",
      "execution_count": null,
      "metadata": {
        "id": "qggJm6p1Kkki"
      },
      "outputs": [],
      "source": [
        "!sudo apt-get install libmagickwand-dev\n",
        "!pip install --no-cache-dir \\\n",
        "    opencv-python-headless==4.6.*\\\n",
        "    rawpy==0.17.* \\\n",
        "    pandas \\\n",
        "    Pillow==7.1.2 \\\n",
        "    scikit-image==0.16.2 \\\n",
        "    scipy \\\n",
        "    tqdm \\\n",
        "    Wand"
      ]
    },
    {
      "cell_type": "code",
      "source": [
        "!git clone https://github.com/andreacos/BoostingCNN-Jpeg-Primary-Quantization-Matrix-Estimation"
      ],
      "metadata": {
        "id": "R9g6PhxgKsd1"
      },
      "execution_count": null,
      "outputs": []
    },
    {
      "cell_type": "code",
      "source": [
        "import sys\n",
        "\n",
        "sys.path.insert(1, \"BoostingCNN-Jpeg-Primary-Quantization-Matrix-Estimation\")"
      ],
      "metadata": {
        "id": "yM4DVQz2LFiw"
      },
      "execution_count": 3,
      "outputs": []
    },
    {
      "cell_type": "code",
      "source": [
        "import io\n",
        "import os\n",
        "from glob import glob\n",
        "\n",
        "import cv2\n",
        "import numpy as np\n",
        "import pandas as pd\n",
        "import tensorflow as tf\n",
        "from networks import (custom_mse_wrapper, custom_softmax_activation,\n",
        "                      custom_two_terms_loss_wrapper)\n",
        "from PIL import Image\n",
        "from skimage.util import view_as_windows\n",
        "from utils import label2coefficient, max_min_coefficient, string2Q"
      ],
      "metadata": {
        "id": "wYFv85BSLLhk"
      },
      "execution_count": 4,
      "outputs": []
    },
    {
      "cell_type": "code",
      "source": [
        "model_file = 'BoostingCNN-Jpeg-Primary-Quantization-Matrix-Estimation/models/model_QF1_60-98_QF2_90-2-term-loss.h5'\n",
        "image_file =  'BoostingCNN-Jpeg-Primary-Quantization-Matrix-Estimation/resources/00000000_redaf7d93t.TIF_85_90.png'\n",
        "_map = np.load('BoostingCNN-Jpeg-Primary-Quantization-Matrix-Estimation/resources/qf1_qf2_map_90.npy', allow_pickle=True)"
      ],
      "metadata": {
        "id": "sL1zXGXZL1Lu"
      },
      "execution_count": 5,
      "outputs": []
    },
    {
      "cell_type": "code",
      "source": [
        "def preprocess(image: np.array, dimension: tuple) -> np.array:\n",
        "    \"\"\"Function for preprocessing the input image.\"\"\"\n",
        "    if isinstance(image, str):\n",
        "        image = cv2.imread(image)\n",
        "        \n",
        "    image = cv2.cvtColor(image, cv2.COLOR_BGR2YCrCb)[:,:,0]\n",
        "\n",
        "    if image.shape != dimension:\n",
        "        image = cv2.resize(image, dimension)\n",
        "\n",
        "    return image.astype(np.float32) / 255.\n",
        "\n",
        "\n",
        "def mse(x: np.array, y: np.array) -> float:\n",
        "    \"\"\"Function to calculate the mse.\"\"\"\n",
        "    return np.mean((x - y) ** 2, axis=1)\n",
        "\n",
        "\n",
        "def make_predict(image: np.array, arr: np.array, maximum_coefficients: np.array) -> np.array:\n",
        "    \"\"\"Function to make predictions.\"\"\"\n",
        "    predicted_label = label2coefficient(model.predict(np.expand_dims(image, [0, -1]), verbose=0).flatten(), maximum_coefficients)\n",
        "    return labels[np.argmin(mse(predicted_label, arr))]\n",
        "\n",
        "\n",
        "def image_compression(image: np.array, *qfs: tuple) -> np.array:\n",
        "    \"\"\"Function to make image compress.\"\"\"\n",
        "    for qf in qfs:\n",
        "        image = np.array(Image.open(io.BytesIO(cv2.imencode('.jpg', image, [int(cv2.IMWRITE_JPEG_QUALITY), qf])[1])))\n",
        "    return image"
      ],
      "metadata": {
        "id": "LWZ5yWd8OzR3"
      },
      "execution_count": 6,
      "outputs": []
    },
    {
      "cell_type": "code",
      "source": [
        "maximum_coefficients, _ = max_min_coefficient(\n",
        "    quality_range=(50, 100),\n",
        "    n_coeffs=15\n",
        "    )"
      ],
      "metadata": {
        "id": "fiGzDoqCrqrC"
      },
      "execution_count": 7,
      "outputs": []
    },
    {
      "cell_type": "code",
      "source": [
        "model = tf.keras.models.load_model(\n",
        "    model_file,\n",
        "    custom_objects=({\n",
        "        'custom_softmax': custom_softmax_activation(maximum_coefficients),\n",
        "        'custom_two_terms_loss_wrapper': custom_two_terms_loss_wrapper(maximum_coefficients, 0.8),\n",
        "        'custom_mse': custom_mse_wrapper(maximum_coefficients)\n",
        "        })\n",
        "    )"
      ],
      "metadata": {
        "colab": {
          "base_uri": "https://localhost:8080/"
        },
        "id": "Pyl8P9dDee9E",
        "outputId": "7a99d128-1454-4680-f7c1-5ef8f2ed802f"
      },
      "execution_count": 8,
      "outputs": [
        {
          "output_type": "stream",
          "name": "stderr",
          "text": [
            "WARNING:tensorflow:No training configuration found in the save file, so the model was *not* compiled. Compile it manually.\n"
          ]
        }
      ]
    },
    {
      "cell_type": "code",
      "source": [
        "### TESTING\n",
        "label2coefficient(\n",
        "    model.predict(np.expand_dims(preprocess(image_file, (64, 64)), [0, -1])).flatten(), \n",
        "    max_coefficients=maximum_coefficients\n",
        "    )"
      ],
      "metadata": {
        "colab": {
          "base_uri": "https://localhost:8080/"
        },
        "id": "lOexb4AWNW5P",
        "outputId": "630d3a4e-329f-49b7-8b97-70c06058d214"
      },
      "execution_count": 9,
      "outputs": [
        {
          "output_type": "stream",
          "name": "stdout",
          "text": [
            "1/1 [==============================] - 1s 1s/step\n"
          ]
        },
        {
          "output_type": "execute_result",
          "data": {
            "text/plain": [
              "array([ 7,  5,  4,  6,  4,  3,  7,  6,  4,  6,  8,  7,  7,  8, 11])"
            ]
          },
          "metadata": {},
          "execution_count": 9
        }
      ]
    },
    {
      "cell_type": "code",
      "source": [
        "labels = _map[:, :2]\n",
        "arr = np.array([string2Q(i[2], size=(8, 8), flatten=True)[:15] for i in _map])"
      ],
      "metadata": {
        "id": "FKc3CL_uNd83"
      },
      "execution_count": 10,
      "outputs": []
    },
    {
      "cell_type": "code",
      "source": [
        "examples = [\n",
        "    (75, ),\n",
        "    (85, 90),\n",
        "    (70, 90),\n",
        "    (100, 90),\n",
        "    (88, 90)\n",
        "]"
      ],
      "metadata": {
        "id": "UJPPW0TYro0L"
      },
      "execution_count": 11,
      "outputs": []
    },
    {
      "cell_type": "markdown",
      "source": [
        "### A0: Программно сгенерировать 5 принципиально различных ситуаций: однократное сжатие, 𝑄𝐹1 < 𝑄𝐹2, 𝑄𝐹1 ≪ 𝑄𝐹2, 𝑄𝐹1 > 𝑄𝐹2, 𝑄𝐹1 ≈ 𝑄𝐹2. "
      ],
      "metadata": {
        "id": "Q_LST_cThQyW"
      }
    },
    {
      "cell_type": "code",
      "source": [
        "def a0_task(examples: list) -> pd.DataFrame:\n",
        "    \"\"\"Function for A0 task.\"\"\"\n",
        "    a0_data = []\n",
        "\n",
        "    for example in examples:\n",
        "        for path in glob('images/*.TIF'):\n",
        "            image = image_compression(cv2.imread(path), *example)[:64, :64]\n",
        "            prediction = make_predict(preprocess(image, (64, 64)), arr, maximum_coefficients)\n",
        "            a0_data.append([prediction[0], example[0], np.abs(prediction[0] - example[0])])\n",
        "\n",
        "    task_a0 = pd.DataFrame(a0_data, columns=['Prediction','QF1', 'Error'])\n",
        "    return task_a0.groupby('QF1').mean().reset_index()"
      ],
      "metadata": {
        "id": "5wZOfVjQNq4w"
      },
      "execution_count": 12,
      "outputs": []
    },
    {
      "cell_type": "code",
      "source": [
        "a0_task(examples)"
      ],
      "metadata": {
        "colab": {
          "base_uri": "https://localhost:8080/",
          "height": 206
        },
        "id": "ixDPdUXkhnXR",
        "outputId": "b3e04bf8-1a72-4873-c599-76899866b8c4"
      },
      "execution_count": 13,
      "outputs": [
        {
          "output_type": "execute_result",
          "data": {
            "text/plain": [
              "   QF1  Prediction     Error\n",
              "0   70   69.454545  2.727273\n",
              "1   75   72.545455  2.818182\n",
              "2   85   83.545455  1.454545\n",
              "3   88   89.454545  4.909091\n",
              "4  100   96.636364  3.363636"
            ],
            "text/html": [
              "\n",
              "  <div id=\"df-0ea25392-e106-4185-940e-943d768d2c58\">\n",
              "    <div class=\"colab-df-container\">\n",
              "      <div>\n",
              "<style scoped>\n",
              "    .dataframe tbody tr th:only-of-type {\n",
              "        vertical-align: middle;\n",
              "    }\n",
              "\n",
              "    .dataframe tbody tr th {\n",
              "        vertical-align: top;\n",
              "    }\n",
              "\n",
              "    .dataframe thead th {\n",
              "        text-align: right;\n",
              "    }\n",
              "</style>\n",
              "<table border=\"1\" class=\"dataframe\">\n",
              "  <thead>\n",
              "    <tr style=\"text-align: right;\">\n",
              "      <th></th>\n",
              "      <th>QF1</th>\n",
              "      <th>Prediction</th>\n",
              "      <th>Error</th>\n",
              "    </tr>\n",
              "  </thead>\n",
              "  <tbody>\n",
              "    <tr>\n",
              "      <th>0</th>\n",
              "      <td>70</td>\n",
              "      <td>69.454545</td>\n",
              "      <td>2.727273</td>\n",
              "    </tr>\n",
              "    <tr>\n",
              "      <th>1</th>\n",
              "      <td>75</td>\n",
              "      <td>72.545455</td>\n",
              "      <td>2.818182</td>\n",
              "    </tr>\n",
              "    <tr>\n",
              "      <th>2</th>\n",
              "      <td>85</td>\n",
              "      <td>83.545455</td>\n",
              "      <td>1.454545</td>\n",
              "    </tr>\n",
              "    <tr>\n",
              "      <th>3</th>\n",
              "      <td>88</td>\n",
              "      <td>89.454545</td>\n",
              "      <td>4.909091</td>\n",
              "    </tr>\n",
              "    <tr>\n",
              "      <th>4</th>\n",
              "      <td>100</td>\n",
              "      <td>96.636364</td>\n",
              "      <td>3.363636</td>\n",
              "    </tr>\n",
              "  </tbody>\n",
              "</table>\n",
              "</div>\n",
              "      <button class=\"colab-df-convert\" onclick=\"convertToInteractive('df-0ea25392-e106-4185-940e-943d768d2c58')\"\n",
              "              title=\"Convert this dataframe to an interactive table.\"\n",
              "              style=\"display:none;\">\n",
              "        \n",
              "  <svg xmlns=\"http://www.w3.org/2000/svg\" height=\"24px\"viewBox=\"0 0 24 24\"\n",
              "       width=\"24px\">\n",
              "    <path d=\"M0 0h24v24H0V0z\" fill=\"none\"/>\n",
              "    <path d=\"M18.56 5.44l.94 2.06.94-2.06 2.06-.94-2.06-.94-.94-2.06-.94 2.06-2.06.94zm-11 1L8.5 8.5l.94-2.06 2.06-.94-2.06-.94L8.5 2.5l-.94 2.06-2.06.94zm10 10l.94 2.06.94-2.06 2.06-.94-2.06-.94-.94-2.06-.94 2.06-2.06.94z\"/><path d=\"M17.41 7.96l-1.37-1.37c-.4-.4-.92-.59-1.43-.59-.52 0-1.04.2-1.43.59L10.3 9.45l-7.72 7.72c-.78.78-.78 2.05 0 2.83L4 21.41c.39.39.9.59 1.41.59.51 0 1.02-.2 1.41-.59l7.78-7.78 2.81-2.81c.8-.78.8-2.07 0-2.86zM5.41 20L4 18.59l7.72-7.72 1.47 1.35L5.41 20z\"/>\n",
              "  </svg>\n",
              "      </button>\n",
              "      \n",
              "  <style>\n",
              "    .colab-df-container {\n",
              "      display:flex;\n",
              "      flex-wrap:wrap;\n",
              "      gap: 12px;\n",
              "    }\n",
              "\n",
              "    .colab-df-convert {\n",
              "      background-color: #E8F0FE;\n",
              "      border: none;\n",
              "      border-radius: 50%;\n",
              "      cursor: pointer;\n",
              "      display: none;\n",
              "      fill: #1967D2;\n",
              "      height: 32px;\n",
              "      padding: 0 0 0 0;\n",
              "      width: 32px;\n",
              "    }\n",
              "\n",
              "    .colab-df-convert:hover {\n",
              "      background-color: #E2EBFA;\n",
              "      box-shadow: 0px 1px 2px rgba(60, 64, 67, 0.3), 0px 1px 3px 1px rgba(60, 64, 67, 0.15);\n",
              "      fill: #174EA6;\n",
              "    }\n",
              "\n",
              "    [theme=dark] .colab-df-convert {\n",
              "      background-color: #3B4455;\n",
              "      fill: #D2E3FC;\n",
              "    }\n",
              "\n",
              "    [theme=dark] .colab-df-convert:hover {\n",
              "      background-color: #434B5C;\n",
              "      box-shadow: 0px 1px 3px 1px rgba(0, 0, 0, 0.15);\n",
              "      filter: drop-shadow(0px 1px 2px rgba(0, 0, 0, 0.3));\n",
              "      fill: #FFFFFF;\n",
              "    }\n",
              "  </style>\n",
              "\n",
              "      <script>\n",
              "        const buttonEl =\n",
              "          document.querySelector('#df-0ea25392-e106-4185-940e-943d768d2c58 button.colab-df-convert');\n",
              "        buttonEl.style.display =\n",
              "          google.colab.kernel.accessAllowed ? 'block' : 'none';\n",
              "\n",
              "        async function convertToInteractive(key) {\n",
              "          const element = document.querySelector('#df-0ea25392-e106-4185-940e-943d768d2c58');\n",
              "          const dataTable =\n",
              "            await google.colab.kernel.invokeFunction('convertToInteractive',\n",
              "                                                     [key], {});\n",
              "          if (!dataTable) return;\n",
              "\n",
              "          const docLinkHtml = 'Like what you see? Visit the ' +\n",
              "            '<a target=\"_blank\" href=https://colab.research.google.com/notebooks/data_table.ipynb>data table notebook</a>'\n",
              "            + ' to learn more about interactive tables.';\n",
              "          element.innerHTML = '';\n",
              "          dataTable['output_type'] = 'display_data';\n",
              "          await google.colab.output.renderOutput(dataTable, element);\n",
              "          const docLink = document.createElement('div');\n",
              "          docLink.innerHTML = docLinkHtml;\n",
              "          element.appendChild(docLink);\n",
              "        }\n",
              "      </script>\n",
              "    </div>\n",
              "  </div>\n",
              "  "
            ]
          },
          "metadata": {},
          "execution_count": 13
        }
      ]
    },
    {
      "cell_type": "markdown",
      "source": [
        "### A1: Сравнить ошибку при оценивании 𝑄𝐹1 по одному патчу и при оценивании по 𝑝 = 10 патчам, выбранным из одного изображения без пересечения."
      ],
      "metadata": {
        "id": "ST6WO5AWhhdg"
      }
    },
    {
      "cell_type": "code",
      "source": [
        "def a1_task(examples: list) -> pd.DataFrame:\n",
        "    \"\"\"Function for A1 task.\"\"\"\n",
        "    a1_data = []\n",
        "\n",
        "    for example in examples:\n",
        "        for path in glob('images/*.TIF'):\n",
        "            chunks = view_as_windows(image_compression(cv2.imread(path), *example), (64, 64, 3), 64).reshape(-1, 64, 64, 3)\n",
        "            temp_data = []\n",
        "            \n",
        "            for chunk in chunks[:10]:\n",
        "                predictions = make_predict(preprocess(chunk, (64, 64)), arr, maximum_coefficients)\n",
        "                temp_data.append([predictions[0], np.abs(predictions[0] - example[0])])\n",
        "        \n",
        "            mean_result = np.mean(temp_data, axis=0)\n",
        "            a1_data.append([mean_result[0], example[0], mean_result[1]])\n",
        "\n",
        "    task_a1 = pd.DataFrame(a1_data, columns=['Prediction','QF1', 'Error'])\n",
        "    return task_a1.groupby('QF1').mean().reset_index()"
      ],
      "metadata": {
        "id": "0GuhZpPVQKwF"
      },
      "execution_count": 14,
      "outputs": []
    },
    {
      "cell_type": "code",
      "source": [
        "a1_task(examples)"
      ],
      "metadata": {
        "colab": {
          "base_uri": "https://localhost:8080/",
          "height": 206
        },
        "id": "V6kRnqnpZiQO",
        "outputId": "82858f8b-0a83-4866-c714-300720bf94e7"
      },
      "execution_count": 15,
      "outputs": [
        {
          "output_type": "execute_result",
          "data": {
            "text/plain": [
              "   QF1  Prediction     Error\n",
              "0   70   69.727273  1.763636\n",
              "1   75   73.354545  1.754545\n",
              "2   85   83.700000  1.500000\n",
              "3   88   90.236364  4.200000\n",
              "4  100   96.127273  3.872727"
            ],
            "text/html": [
              "\n",
              "  <div id=\"df-e99c42cc-c431-4fef-b7a3-b05d83ea6483\">\n",
              "    <div class=\"colab-df-container\">\n",
              "      <div>\n",
              "<style scoped>\n",
              "    .dataframe tbody tr th:only-of-type {\n",
              "        vertical-align: middle;\n",
              "    }\n",
              "\n",
              "    .dataframe tbody tr th {\n",
              "        vertical-align: top;\n",
              "    }\n",
              "\n",
              "    .dataframe thead th {\n",
              "        text-align: right;\n",
              "    }\n",
              "</style>\n",
              "<table border=\"1\" class=\"dataframe\">\n",
              "  <thead>\n",
              "    <tr style=\"text-align: right;\">\n",
              "      <th></th>\n",
              "      <th>QF1</th>\n",
              "      <th>Prediction</th>\n",
              "      <th>Error</th>\n",
              "    </tr>\n",
              "  </thead>\n",
              "  <tbody>\n",
              "    <tr>\n",
              "      <th>0</th>\n",
              "      <td>70</td>\n",
              "      <td>69.727273</td>\n",
              "      <td>1.763636</td>\n",
              "    </tr>\n",
              "    <tr>\n",
              "      <th>1</th>\n",
              "      <td>75</td>\n",
              "      <td>73.354545</td>\n",
              "      <td>1.754545</td>\n",
              "    </tr>\n",
              "    <tr>\n",
              "      <th>2</th>\n",
              "      <td>85</td>\n",
              "      <td>83.700000</td>\n",
              "      <td>1.500000</td>\n",
              "    </tr>\n",
              "    <tr>\n",
              "      <th>3</th>\n",
              "      <td>88</td>\n",
              "      <td>90.236364</td>\n",
              "      <td>4.200000</td>\n",
              "    </tr>\n",
              "    <tr>\n",
              "      <th>4</th>\n",
              "      <td>100</td>\n",
              "      <td>96.127273</td>\n",
              "      <td>3.872727</td>\n",
              "    </tr>\n",
              "  </tbody>\n",
              "</table>\n",
              "</div>\n",
              "      <button class=\"colab-df-convert\" onclick=\"convertToInteractive('df-e99c42cc-c431-4fef-b7a3-b05d83ea6483')\"\n",
              "              title=\"Convert this dataframe to an interactive table.\"\n",
              "              style=\"display:none;\">\n",
              "        \n",
              "  <svg xmlns=\"http://www.w3.org/2000/svg\" height=\"24px\"viewBox=\"0 0 24 24\"\n",
              "       width=\"24px\">\n",
              "    <path d=\"M0 0h24v24H0V0z\" fill=\"none\"/>\n",
              "    <path d=\"M18.56 5.44l.94 2.06.94-2.06 2.06-.94-2.06-.94-.94-2.06-.94 2.06-2.06.94zm-11 1L8.5 8.5l.94-2.06 2.06-.94-2.06-.94L8.5 2.5l-.94 2.06-2.06.94zm10 10l.94 2.06.94-2.06 2.06-.94-2.06-.94-.94-2.06-.94 2.06-2.06.94z\"/><path d=\"M17.41 7.96l-1.37-1.37c-.4-.4-.92-.59-1.43-.59-.52 0-1.04.2-1.43.59L10.3 9.45l-7.72 7.72c-.78.78-.78 2.05 0 2.83L4 21.41c.39.39.9.59 1.41.59.51 0 1.02-.2 1.41-.59l7.78-7.78 2.81-2.81c.8-.78.8-2.07 0-2.86zM5.41 20L4 18.59l7.72-7.72 1.47 1.35L5.41 20z\"/>\n",
              "  </svg>\n",
              "      </button>\n",
              "      \n",
              "  <style>\n",
              "    .colab-df-container {\n",
              "      display:flex;\n",
              "      flex-wrap:wrap;\n",
              "      gap: 12px;\n",
              "    }\n",
              "\n",
              "    .colab-df-convert {\n",
              "      background-color: #E8F0FE;\n",
              "      border: none;\n",
              "      border-radius: 50%;\n",
              "      cursor: pointer;\n",
              "      display: none;\n",
              "      fill: #1967D2;\n",
              "      height: 32px;\n",
              "      padding: 0 0 0 0;\n",
              "      width: 32px;\n",
              "    }\n",
              "\n",
              "    .colab-df-convert:hover {\n",
              "      background-color: #E2EBFA;\n",
              "      box-shadow: 0px 1px 2px rgba(60, 64, 67, 0.3), 0px 1px 3px 1px rgba(60, 64, 67, 0.15);\n",
              "      fill: #174EA6;\n",
              "    }\n",
              "\n",
              "    [theme=dark] .colab-df-convert {\n",
              "      background-color: #3B4455;\n",
              "      fill: #D2E3FC;\n",
              "    }\n",
              "\n",
              "    [theme=dark] .colab-df-convert:hover {\n",
              "      background-color: #434B5C;\n",
              "      box-shadow: 0px 1px 3px 1px rgba(0, 0, 0, 0.15);\n",
              "      filter: drop-shadow(0px 1px 2px rgba(0, 0, 0, 0.3));\n",
              "      fill: #FFFFFF;\n",
              "    }\n",
              "  </style>\n",
              "\n",
              "      <script>\n",
              "        const buttonEl =\n",
              "          document.querySelector('#df-e99c42cc-c431-4fef-b7a3-b05d83ea6483 button.colab-df-convert');\n",
              "        buttonEl.style.display =\n",
              "          google.colab.kernel.accessAllowed ? 'block' : 'none';\n",
              "\n",
              "        async function convertToInteractive(key) {\n",
              "          const element = document.querySelector('#df-e99c42cc-c431-4fef-b7a3-b05d83ea6483');\n",
              "          const dataTable =\n",
              "            await google.colab.kernel.invokeFunction('convertToInteractive',\n",
              "                                                     [key], {});\n",
              "          if (!dataTable) return;\n",
              "\n",
              "          const docLinkHtml = 'Like what you see? Visit the ' +\n",
              "            '<a target=\"_blank\" href=https://colab.research.google.com/notebooks/data_table.ipynb>data table notebook</a>'\n",
              "            + ' to learn more about interactive tables.';\n",
              "          element.innerHTML = '';\n",
              "          dataTable['output_type'] = 'display_data';\n",
              "          await google.colab.output.renderOutput(dataTable, element);\n",
              "          const docLink = document.createElement('div');\n",
              "          docLink.innerHTML = docLinkHtml;\n",
              "          element.appendChild(docLink);\n",
              "        }\n",
              "      </script>\n",
              "    </div>\n",
              "  </div>\n",
              "  "
            ]
          },
          "metadata": {},
          "execution_count": 15
        }
      ]
    }
  ]
}