{
  "nbformat": 4,
  "nbformat_minor": 0,
  "metadata": {
    "colab": {
      "provenance": []
    },
    "kernelspec": {
      "name": "python3",
      "display_name": "Python 3"
    },
    "language_info": {
      "name": "python"
    }
  },
  "cells": [
    {
      "cell_type": "code",
      "execution_count": 1,
      "metadata": {
        "colab": {
          "base_uri": "https://localhost:8080/"
        },
        "id": "7-r7V9EY2O5Y",
        "outputId": "fa7cf8de-98f9-4f42-ccb2-a3bce1fe45a1"
      },
      "outputs": [
        {
          "output_type": "stream",
          "name": "stdout",
          "text": [
            "Reading package lists... Done\n",
            "Building dependency tree       \n",
            "Reading state information... Done\n",
            "libmagickwand-dev is already the newest version (8:6.9.7.4+dfsg-16ubuntu6.14).\n",
            "The following package was automatically installed and is no longer required:\n",
            "  libnvidia-common-460\n",
            "Use 'sudo apt autoremove' to remove it.\n",
            "0 upgraded, 0 newly installed, 0 to remove and 21 not upgraded.\n",
            "Looking in indexes: https://pypi.org/simple, https://us-python.pkg.dev/colab-wheels/public/simple/\n",
            "Requirement already satisfied: opencv-python-headless==4.6.* in /usr/local/lib/python3.8/dist-packages (4.6.0.66)\n",
            "Requirement already satisfied: rawpy==0.17.* in /usr/local/lib/python3.8/dist-packages (0.17.3)\n",
            "Requirement already satisfied: pandas in /usr/local/lib/python3.8/dist-packages (1.3.5)\n",
            "Requirement already satisfied: Pillow==7.1.2 in /usr/local/lib/python3.8/dist-packages (7.1.2)\n",
            "Requirement already satisfied: scikit-image==0.16.2 in /usr/local/lib/python3.8/dist-packages (0.16.2)\n",
            "Requirement already satisfied: scipy in /usr/local/lib/python3.8/dist-packages (1.7.3)\n",
            "Requirement already satisfied: tqdm in /usr/local/lib/python3.8/dist-packages (4.64.1)\n",
            "Requirement already satisfied: Wand in /usr/local/lib/python3.8/dist-packages (0.6.11)\n",
            "Requirement already satisfied: numpy>=1.14.5 in /usr/local/lib/python3.8/dist-packages (from opencv-python-headless==4.6.*) (1.21.6)\n",
            "Requirement already satisfied: matplotlib!=3.0.0,>=2.0.0 in /usr/local/lib/python3.8/dist-packages (from scikit-image==0.16.2) (3.2.2)\n",
            "Requirement already satisfied: imageio>=2.3.0 in /usr/local/lib/python3.8/dist-packages (from scikit-image==0.16.2) (2.9.0)\n",
            "Requirement already satisfied: networkx>=2.0 in /usr/local/lib/python3.8/dist-packages (from scikit-image==0.16.2) (2.8.8)\n",
            "Requirement already satisfied: PyWavelets>=0.4.0 in /usr/local/lib/python3.8/dist-packages (from scikit-image==0.16.2) (1.4.1)\n",
            "Requirement already satisfied: python-dateutil>=2.7.3 in /usr/local/lib/python3.8/dist-packages (from pandas) (2.8.2)\n",
            "Requirement already satisfied: pytz>=2017.3 in /usr/local/lib/python3.8/dist-packages (from pandas) (2022.7)\n",
            "Requirement already satisfied: pyparsing!=2.0.4,!=2.1.2,!=2.1.6,>=2.0.1 in /usr/local/lib/python3.8/dist-packages (from matplotlib!=3.0.0,>=2.0.0->scikit-image==0.16.2) (3.0.9)\n",
            "Requirement already satisfied: cycler>=0.10 in /usr/local/lib/python3.8/dist-packages (from matplotlib!=3.0.0,>=2.0.0->scikit-image==0.16.2) (0.11.0)\n",
            "Requirement already satisfied: kiwisolver>=1.0.1 in /usr/local/lib/python3.8/dist-packages (from matplotlib!=3.0.0,>=2.0.0->scikit-image==0.16.2) (1.4.4)\n",
            "Requirement already satisfied: six>=1.5 in /usr/local/lib/python3.8/dist-packages (from python-dateutil>=2.7.3->pandas) (1.15.0)\n"
          ]
        }
      ],
      "source": [
        "!sudo apt-get install libmagickwand-dev\n",
        "!pip install --no-cache-dir \\\n",
        "    opencv-python-headless==4.6.*\\\n",
        "    rawpy==0.17.* \\\n",
        "    pandas \\\n",
        "    Pillow==7.1.2 \\\n",
        "    scikit-image==0.16.2 \\\n",
        "    scipy \\\n",
        "    tqdm \\\n",
        "    Wand"
      ]
    },
    {
      "cell_type": "code",
      "source": [
        "!git clone https://github.com/andreacos/BoostingCNN-Jpeg-Primary-Quantization-Matrix-Estimation"
      ],
      "metadata": {
        "colab": {
          "base_uri": "https://localhost:8080/"
        },
        "id": "LXn-H8ij3J3T",
        "outputId": "3f0eb5bf-ceb3-4df1-9cc7-090d54bde9c0"
      },
      "execution_count": 2,
      "outputs": [
        {
          "output_type": "stream",
          "name": "stdout",
          "text": [
            "fatal: destination path 'BoostingCNN-Jpeg-Primary-Quantization-Matrix-Estimation' already exists and is not an empty directory.\n"
          ]
        }
      ]
    },
    {
      "cell_type": "code",
      "source": [
        "import io\n",
        "import os\n",
        "import sys\n",
        "import cv2\n",
        "import numpy as np\n",
        "import tensorflow as tf\n",
        "import pandas as pd\n",
        "import warnings\n",
        "\n",
        "from glob import glob\n",
        "from PIL import Image\n",
        "from skimage.util import view_as_windows\n",
        "\n",
        "warnings.filterwarnings(\"ignore\")"
      ],
      "metadata": {
        "id": "MtjpJolj339m"
      },
      "execution_count": 3,
      "outputs": []
    },
    {
      "cell_type": "code",
      "source": [
        "# GET PATH\n",
        "sys.path.insert(1, \"BoostingCNN-Jpeg-Primary-Quantization-Matrix-Estimation\")"
      ],
      "metadata": {
        "id": "HcdR36yTR86v"
      },
      "execution_count": 4,
      "outputs": []
    },
    {
      "cell_type": "code",
      "source": [
        "from networks import custom_two_terms_loss_wrapper, custom_softmax_activation, custom_mse_wrapper\n",
        "from utils import max_min_coefficient, label2coefficient, string2Q"
      ],
      "metadata": {
        "id": "AKWF2dcgR97P"
      },
      "execution_count": 5,
      "outputs": []
    },
    {
      "cell_type": "code",
      "source": [
        "model_path = \"BoostingCNN-Jpeg-Primary-Quantization-Matrix-Estimation/models/\"\n",
        "data_path = \"BoostingCNN-Jpeg-Primary-Quantization-Matrix-Estimation/resources/\"\n",
        "img_path = \"test_images/\"\n",
        "model_file = model_path + 'model_QF1_60-98_QF2_90-2-term-loss.h5'\n",
        "img_file = data_path + '00000000_redaf7d93t.TIF_85_90.png'\n",
        "\n",
        "# Загрузим таблицу, связывающую каждую пару факторов качества JPEG с соответствующими коэффициентами Q\n",
        "qf_map = np.load(data_path + 'qf1_qf2_map_90.npy', allow_pickle=True)"
      ],
      "metadata": {
        "id": "8VJMAeiU37w_"
      },
      "execution_count": 6,
      "outputs": []
    },
    {
      "cell_type": "markdown",
      "source": [
        "Набор пар коэффициентов качества JPEG (QF1, QF2). Коэффициент качества первого сжатия JPEG варьируется в заданном диапазоне (например, QF1 = [60, 70, 80, 90]), в то время как коэффициент качества второго сжатия JPEG является фиксированным (например, QF2 = 90)."
      ],
      "metadata": {
        "id": "d24jryl1Ycjy"
      }
    },
    {
      "cell_type": "code",
      "source": [
        "examples = [\n",
        "    (60,90),\n",
        "    (70,90),\n",
        "    (80,90),\n",
        "    (90,90),\n",
        "    (98,90)\n",
        "]"
      ],
      "metadata": {
        "id": "9BbdDONNYasQ"
      },
      "execution_count": 7,
      "outputs": []
    },
    {
      "cell_type": "code",
      "source": [
        "# Предобработка изображений\n",
        "def preprocess_input(im, target_size, scale=255.):\n",
        "    if type(im) == str :\n",
        "      im = cv2.imread(im)\n",
        "    im = cv2.cvtColor(im, cv2.COLOR_BGR2YCrCb)[:,:,0]\n",
        "    if im.shape != target_size:\n",
        "        im = cv2.resize(im, target_size)\n",
        "    return im.astype(np.float32) / scale"
      ],
      "metadata": {
        "id": "To2Oc31M5C0r"
      },
      "execution_count": 8,
      "outputs": []
    },
    {
      "cell_type": "code",
      "source": [
        "# Расчёт MSE\n",
        "def mse (predictions, k_dct):\n",
        "  result = np.mean((k_dct - predictions) **2, axis=1)\n",
        "  return np.argmin(result)"
      ],
      "metadata": {
        "id": "CHsIBuH4_ptr"
      },
      "execution_count": 9,
      "outputs": []
    },
    {
      "cell_type": "code",
      "source": [
        "# Расчёт weighted MSE (Пункт А3)\n",
        "def mse_weighted(predictions, k_dct, weights):\n",
        "  diff = np.asarray((predictions - k_dct)**2)\n",
        "  mult = diff*weights\n",
        "  weighted = np.average(mult, axis=1, weights=weights)\n",
        "  return np.argmin(weighted)"
      ],
      "metadata": {
        "id": "_IFP3_YwQ0fE"
      },
      "execution_count": 10,
      "outputs": []
    },
    {
      "cell_type": "code",
      "source": [
        "# Сжатие изображения\n",
        "def compress_image(img, *qfs):\n",
        "  for qf in qfs:\n",
        "    jpeg_encoded = cv2.imencode('.jpg', img, [int(cv2.IMWRITE_JPEG_QUALITY), qf])[1]\n",
        "    jpeg_encoded_image = Image.open(io.BytesIO(jpeg_encoded))\n",
        "    img = np.array(jpeg_encoded_image)\n",
        "  return img"
      ],
      "metadata": {
        "id": "FUA1Ycg7Myu7"
      },
      "execution_count": 11,
      "outputs": []
    },
    {
      "cell_type": "code",
      "source": [
        "# Тестовый кейс\n",
        "def test_case():\n",
        "  x = preprocess_input(img_file, (64, 64), 255.)\n",
        "  prediction = model.predict(np.expand_dims(x, [0, -1]))\n",
        "  # label2coefficient() используется для декодирования каждого прогнозирования с горячим \n",
        "  # кодированием на основе максимального значения, которое может быть присвоено каждому коэффициенту JPEG\n",
        "  predicted_label = label2coefficient(prediction.flatten(), max_coefficients=max_coeffs)\n",
        "  print(predicted_label)"
      ],
      "metadata": {
        "id": "sewPFpHk4GxE"
      },
      "execution_count": 12,
      "outputs": []
    },
    {
      "cell_type": "code",
      "source": [
        "# Веса для Weighted MSE\n",
        "q50_coeffs = np.array([16,11,12,14,12,10,16,14,13,14,18,17,16,19,24], dtype='int64')"
      ],
      "metadata": {
        "id": "dz6vRqhxb9IK"
      },
      "execution_count": 13,
      "outputs": []
    },
    {
      "cell_type": "code",
      "source": [
        "# Прогнозирование\n",
        "def predict(img, k_dct, max_coeffs):\n",
        "  prediction = model.predict(np.expand_dims(img, [0, -1]), verbose=0)\n",
        "  predicted_label = label2coefficient(prediction.flatten(), max_coefficients=max_coeffs)\n",
        "  t_mse = mse(predicted_label,k_dct)\n",
        "  w_mse = mse_weighted(predicted_label, k_dct, q50_coeffs)\n",
        "  result = labels[t_mse]\n",
        "  weighted = labels[w_mse]\n",
        "  return result, weighted"
      ],
      "metadata": {
        "id": "5QBeX_k4EYqP"
      },
      "execution_count": 14,
      "outputs": []
    },
    {
      "cell_type": "code",
      "source": [
        "# Максимальное значение для коэффициентов\n",
        "max_coeffs, _ = max_min_coefficient(quality_range=(50, 100),\n",
        "                                    n_coeffs=15,\n",
        "                                    zig_zag_order=True)\n",
        "model = tf.keras.models.load_model(model_file,\n",
        "                                    custom_objects=({'custom_softmax': custom_softmax_activation(max_coeffs),\n",
        "                                                    'custom_two_terms_loss_wrapper': custom_two_terms_loss_wrapper(max_coeffs, 0.8),\n",
        "                                                    'custom_mse': custom_mse_wrapper(max_coeffs)}))"
      ],
      "metadata": {
        "colab": {
          "base_uri": "https://localhost:8080/"
        },
        "id": "iEenNE6gNG_0",
        "outputId": "957023a5-128d-447d-f155-b31f145fc8c4"
      },
      "execution_count": 15,
      "outputs": [
        {
          "output_type": "stream",
          "name": "stderr",
          "text": [
            "WARNING:tensorflow:No training configuration found in the save file, so the model was *not* compiled. Compile it manually.\n"
          ]
        }
      ]
    },
    {
      "cell_type": "code",
      "source": [
        "test_case()"
      ],
      "metadata": {
        "colab": {
          "base_uri": "https://localhost:8080/"
        },
        "id": "r5GvT50bAn2x",
        "outputId": "34531deb-0569-4110-e9b6-4c1b0159fcf2"
      },
      "execution_count": 16,
      "outputs": [
        {
          "output_type": "stream",
          "name": "stdout",
          "text": [
            "1/1 [==============================] - 1s 1s/step\n",
            "[ 7  5  4  6  4  3  7  6  4  6  8  7  7  8 11]\n"
          ]
        }
      ]
    },
    {
      "cell_type": "code",
      "source": [
        "# Готовим данные из исходных\n",
        "labels = qf_map[:,:2]\n",
        "k_dct = []\n",
        "for rec in qf_map:\n",
        "  k_dct.append(string2Q(rec[2], size=(8, 8), flatten=True)[:15])\n",
        "k_dct = np.array(k_dct)"
      ],
      "metadata": {
        "id": "-B9MzAae8Xpc"
      },
      "execution_count": 17,
      "outputs": []
    },
    {
      "cell_type": "code",
      "source": [
        "# A0: Программно сгенерировать 5 принципиально различных ситуаций: однократное сжатие, 𝑄𝐹1 < 𝑄𝐹2, 𝑄𝐹1 ≪ 𝑄𝐹2, 𝑄𝐹1 > 𝑄𝐹2, 𝑄𝐹1 ≈ 𝑄𝐹2. \n",
        "anls_data = []\n",
        "\n",
        "for e in examples:\n",
        "  for path in glob(img_path+'*.tif'):\n",
        "    tmp = compress_image(cv2.imread(path), *e)\n",
        "    tmp = tmp[:64,:64]\n",
        "    tmp = preprocess_input(tmp, (64, 64), 255.)\n",
        "    pred, pred_w = predict(tmp, k_dct, max_coeffs)\n",
        "    anls_data.append([e[0], pred[0], np.abs(pred[0]-e[0]), pred_w[0], np.abs(pred_w[0]-e[0])])"
      ],
      "metadata": {
        "id": "MtvkS2fmGglU"
      },
      "execution_count": 18,
      "outputs": []
    },
    {
      "cell_type": "code",
      "source": [
        "df_a0 = pd.DataFrame(anls_data, columns=['QF1', 'Prediction', 'Error', 'Prediction_WMSE', 'Error_WMSE'])\n",
        "df_a0_g = df_a0.groupby('QF1').mean()"
      ],
      "metadata": {
        "id": "zU0HLjTHa1og"
      },
      "execution_count": 19,
      "outputs": []
    },
    {
      "cell_type": "code",
      "source": [
        "# Вывод результатов А0+A3\n",
        "df_a0_g"
      ],
      "metadata": {
        "colab": {
          "base_uri": "https://localhost:8080/",
          "height": 237
        },
        "id": "1dITc-A_a6P5",
        "outputId": "818b9183-f3b0-499d-a707-2215392a8523"
      },
      "execution_count": 20,
      "outputs": [
        {
          "output_type": "execute_result",
          "data": {
            "text/plain": [
              "     Prediction     Error  Prediction_WMSE  Error_WMSE\n",
              "QF1                                                   \n",
              "60    62.500000  2.500000        62.583333    2.583333\n",
              "70    67.750000  3.083333        67.750000    3.083333\n",
              "80    78.833333  1.833333        78.833333    1.833333\n",
              "90    95.000000  5.000000        95.083333    5.083333\n",
              "98    95.583333  2.416667        95.666667    2.333333"
            ],
            "text/html": [
              "\n",
              "  <div id=\"df-3e2046b9-7d11-45ff-b1c6-be36d68cd655\">\n",
              "    <div class=\"colab-df-container\">\n",
              "      <div>\n",
              "<style scoped>\n",
              "    .dataframe tbody tr th:only-of-type {\n",
              "        vertical-align: middle;\n",
              "    }\n",
              "\n",
              "    .dataframe tbody tr th {\n",
              "        vertical-align: top;\n",
              "    }\n",
              "\n",
              "    .dataframe thead th {\n",
              "        text-align: right;\n",
              "    }\n",
              "</style>\n",
              "<table border=\"1\" class=\"dataframe\">\n",
              "  <thead>\n",
              "    <tr style=\"text-align: right;\">\n",
              "      <th></th>\n",
              "      <th>Prediction</th>\n",
              "      <th>Error</th>\n",
              "      <th>Prediction_WMSE</th>\n",
              "      <th>Error_WMSE</th>\n",
              "    </tr>\n",
              "    <tr>\n",
              "      <th>QF1</th>\n",
              "      <th></th>\n",
              "      <th></th>\n",
              "      <th></th>\n",
              "      <th></th>\n",
              "    </tr>\n",
              "  </thead>\n",
              "  <tbody>\n",
              "    <tr>\n",
              "      <th>60</th>\n",
              "      <td>62.500000</td>\n",
              "      <td>2.500000</td>\n",
              "      <td>62.583333</td>\n",
              "      <td>2.583333</td>\n",
              "    </tr>\n",
              "    <tr>\n",
              "      <th>70</th>\n",
              "      <td>67.750000</td>\n",
              "      <td>3.083333</td>\n",
              "      <td>67.750000</td>\n",
              "      <td>3.083333</td>\n",
              "    </tr>\n",
              "    <tr>\n",
              "      <th>80</th>\n",
              "      <td>78.833333</td>\n",
              "      <td>1.833333</td>\n",
              "      <td>78.833333</td>\n",
              "      <td>1.833333</td>\n",
              "    </tr>\n",
              "    <tr>\n",
              "      <th>90</th>\n",
              "      <td>95.000000</td>\n",
              "      <td>5.000000</td>\n",
              "      <td>95.083333</td>\n",
              "      <td>5.083333</td>\n",
              "    </tr>\n",
              "    <tr>\n",
              "      <th>98</th>\n",
              "      <td>95.583333</td>\n",
              "      <td>2.416667</td>\n",
              "      <td>95.666667</td>\n",
              "      <td>2.333333</td>\n",
              "    </tr>\n",
              "  </tbody>\n",
              "</table>\n",
              "</div>\n",
              "      <button class=\"colab-df-convert\" onclick=\"convertToInteractive('df-3e2046b9-7d11-45ff-b1c6-be36d68cd655')\"\n",
              "              title=\"Convert this dataframe to an interactive table.\"\n",
              "              style=\"display:none;\">\n",
              "        \n",
              "  <svg xmlns=\"http://www.w3.org/2000/svg\" height=\"24px\"viewBox=\"0 0 24 24\"\n",
              "       width=\"24px\">\n",
              "    <path d=\"M0 0h24v24H0V0z\" fill=\"none\"/>\n",
              "    <path d=\"M18.56 5.44l.94 2.06.94-2.06 2.06-.94-2.06-.94-.94-2.06-.94 2.06-2.06.94zm-11 1L8.5 8.5l.94-2.06 2.06-.94-2.06-.94L8.5 2.5l-.94 2.06-2.06.94zm10 10l.94 2.06.94-2.06 2.06-.94-2.06-.94-.94-2.06-.94 2.06-2.06.94z\"/><path d=\"M17.41 7.96l-1.37-1.37c-.4-.4-.92-.59-1.43-.59-.52 0-1.04.2-1.43.59L10.3 9.45l-7.72 7.72c-.78.78-.78 2.05 0 2.83L4 21.41c.39.39.9.59 1.41.59.51 0 1.02-.2 1.41-.59l7.78-7.78 2.81-2.81c.8-.78.8-2.07 0-2.86zM5.41 20L4 18.59l7.72-7.72 1.47 1.35L5.41 20z\"/>\n",
              "  </svg>\n",
              "      </button>\n",
              "      \n",
              "  <style>\n",
              "    .colab-df-container {\n",
              "      display:flex;\n",
              "      flex-wrap:wrap;\n",
              "      gap: 12px;\n",
              "    }\n",
              "\n",
              "    .colab-df-convert {\n",
              "      background-color: #E8F0FE;\n",
              "      border: none;\n",
              "      border-radius: 50%;\n",
              "      cursor: pointer;\n",
              "      display: none;\n",
              "      fill: #1967D2;\n",
              "      height: 32px;\n",
              "      padding: 0 0 0 0;\n",
              "      width: 32px;\n",
              "    }\n",
              "\n",
              "    .colab-df-convert:hover {\n",
              "      background-color: #E2EBFA;\n",
              "      box-shadow: 0px 1px 2px rgba(60, 64, 67, 0.3), 0px 1px 3px 1px rgba(60, 64, 67, 0.15);\n",
              "      fill: #174EA6;\n",
              "    }\n",
              "\n",
              "    [theme=dark] .colab-df-convert {\n",
              "      background-color: #3B4455;\n",
              "      fill: #D2E3FC;\n",
              "    }\n",
              "\n",
              "    [theme=dark] .colab-df-convert:hover {\n",
              "      background-color: #434B5C;\n",
              "      box-shadow: 0px 1px 3px 1px rgba(0, 0, 0, 0.15);\n",
              "      filter: drop-shadow(0px 1px 2px rgba(0, 0, 0, 0.3));\n",
              "      fill: #FFFFFF;\n",
              "    }\n",
              "  </style>\n",
              "\n",
              "      <script>\n",
              "        const buttonEl =\n",
              "          document.querySelector('#df-3e2046b9-7d11-45ff-b1c6-be36d68cd655 button.colab-df-convert');\n",
              "        buttonEl.style.display =\n",
              "          google.colab.kernel.accessAllowed ? 'block' : 'none';\n",
              "\n",
              "        async function convertToInteractive(key) {\n",
              "          const element = document.querySelector('#df-3e2046b9-7d11-45ff-b1c6-be36d68cd655');\n",
              "          const dataTable =\n",
              "            await google.colab.kernel.invokeFunction('convertToInteractive',\n",
              "                                                     [key], {});\n",
              "          if (!dataTable) return;\n",
              "\n",
              "          const docLinkHtml = 'Like what you see? Visit the ' +\n",
              "            '<a target=\"_blank\" href=https://colab.research.google.com/notebooks/data_table.ipynb>data table notebook</a>'\n",
              "            + ' to learn more about interactive tables.';\n",
              "          element.innerHTML = '';\n",
              "          dataTable['output_type'] = 'display_data';\n",
              "          await google.colab.output.renderOutput(dataTable, element);\n",
              "          const docLink = document.createElement('div');\n",
              "          docLink.innerHTML = docLinkHtml;\n",
              "          element.appendChild(docLink);\n",
              "        }\n",
              "      </script>\n",
              "    </div>\n",
              "  </div>\n",
              "  "
            ]
          },
          "metadata": {},
          "execution_count": 20
        }
      ]
    }
  ]
}